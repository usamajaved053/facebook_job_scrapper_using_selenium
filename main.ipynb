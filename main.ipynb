{
 "cells": [
  {
   "cell_type": "markdown",
   "metadata": {},
   "source": [
    "# Libraries"
   ]
  },
  {
   "cell_type": "code",
   "execution_count": 1,
   "metadata": {},
   "outputs": [],
   "source": [
    "from selenium import webdriver\n",
    "import time\n",
    "from bs4 import BeautifulSoup\n",
    "import re\n",
    "import csv"
   ]
  },
  {
   "cell_type": "markdown",
   "metadata": {},
   "source": [
    "# Initialize data"
   ]
  },
  {
   "cell_type": "code",
   "execution_count": null,
   "metadata": {},
   "outputs": [],
   "source": [
    "cities = [\"Kerns-108079049225071\"]\n",
    "driver = webdriver.Chrome(\"../drivers/chromedriver.exe\")"
   ]
  },
  {
   "cell_type": "markdown",
   "metadata": {},
   "source": [
    "# Functions"
   ]
  },
  {
   "cell_type": "code",
   "execution_count": 4,
   "metadata": {},
   "outputs": [],
   "source": [
    "def get_jobs(cities):\n",
    "    for city in cities:\n",
    "        driver.get(\"https://www.facebook.com/\")\n",
    "        driver.get(\"https://m.facebook.com/jobs/\" + city + \"/\")\n",
    "        time.sleep(3)\n",
    "        html = driver.page_source\n",
    "        while not \"End of results\" in html:\n",
    "            driver.execute_script(\"window.scrollTo(0,document.body.scrollHeight)\")\n",
    "            time.sleep(2)\n",
    "            html = driver.page_source\n",
    "        \n",
    "    soup = BeautifulSoup(html, \"html.parser\")\n",
    "    return soup.find(\"ul\").find_all(\"a\")\n",
    "\n",
    "def single_job(links):\n",
    "    with open(\"./test.csv\", \"w+\", encoding=\"utf-8\") as outcsv:\n",
    "        # configure writer to write standard csv file\n",
    "        writer = csv.writer(\n",
    "            outcsv, delimiter=\",\", quoting=csv.QUOTE_MINIMAL, lineterminator=\"\\n\"\n",
    "        )\n",
    "        writer.writerow([\"heading\", \"Location\", \"Link\"])\n",
    "\n",
    "        for link in links:\n",
    "            # Get title\n",
    "            a = \"https://m.facebook.com/\" + link[\"href\"]\n",
    "            b = re.sub(r\"[^a-zA-Z0-9]+\", \" \", link.find(\"h3\").text)\n",
    "            # Get discription\n",
    "            spans = link.find_all(\"span\")\n",
    "            d = re.sub(r\"[^a-zA-Z0-9]+\", \"  \", spans[1].text)\n",
    "            writer.writerow([str(b), str(d), str(a)])"
   ]
  },
  {
   "cell_type": "markdown",
   "metadata": {},
   "source": [
    "# Initialize Setup"
   ]
  },
  {
   "cell_type": "code",
   "execution_count": null,
   "metadata": {},
   "outputs": [],
   "source": [
    "links = get_jobs(cities)\n",
    "single_job(links)"
   ]
  },
  {
   "cell_type": "markdown",
   "metadata": {},
   "source": [
    "# close browser"
   ]
  },
  {
   "cell_type": "code",
   "execution_count": null,
   "metadata": {},
   "outputs": [],
   "source": [
    "driver.quit()"
   ]
  }
 ],
 "metadata": {
  "interpreter": {
   "hash": "3f8886f945a7e6662e16bddaedab60e9c7951a73096fe5ef47a1dbcfa8cf8455"
  },
  "kernelspec": {
   "display_name": "Python 3.10.2 64-bit",
   "language": "python",
   "name": "python3"
  },
  "language_info": {
   "codemirror_mode": {
    "name": "ipython",
    "version": 3
   },
   "file_extension": ".py",
   "mimetype": "text/x-python",
   "name": "python",
   "nbconvert_exporter": "python",
   "pygments_lexer": "ipython3",
   "version": "3.10.2"
  },
  "orig_nbformat": 4
 },
 "nbformat": 4,
 "nbformat_minor": 2
}
